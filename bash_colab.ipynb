{
  "nbformat": 4,
  "nbformat_minor": 0,
  "metadata": {
    "colab": {
      "name": "blank_bash.ipynb",
      "version": "1.0.0",
      "provenance": [],
      "collapsed_sections": []
    },
    "kernelspec": {
      "name": "bash_kernel",
      "display_name": "Bash"
    }
  },
  "cells": [
    {
      "metadata": {
        "id": "kZRlD4utdPuX",
        "colab_type": "code",
        "colab": {}
      },
      "cell_type": "code",
      "source": [
        ""
      ],
      "execution_count": 0,
      "outputs": []
    }
  ]
}
